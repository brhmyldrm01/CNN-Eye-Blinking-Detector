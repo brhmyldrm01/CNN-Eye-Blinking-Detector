{
 "cells": [
  {
   "cell_type": "code",
   "execution_count": 48,
   "metadata": {},
   "outputs": [],
   "source": [
    "\n",
    "import tensorflow\n",
    "from keras.models import Sequential\n",
    "from keras.layers import Dense\n",
    "from keras.preprocessing import image\n",
    "import matplotlib.pyplot as plt\n",
    "import numpy\n",
    "import pandas as pd\n",
    "import seaborn as sns\n",
    "import cv2\n",
    "import os\n",
    "import visualkeras\n",
    "from PIL import ImageFont\n",
    "import plotly.graph_objects as go\n",
    "from plotly.subplots import make_subplots"
   ]
  },
  {
   "cell_type": "code",
   "execution_count": 49,
   "metadata": {},
   "outputs": [],
   "source": [
    "# özellik çıkaran ön eğitimli cnn modeli\n",
    "conv_base = tensorflow.keras.applications.VGG16(weights='imagenet',\n",
    "                  include_top=False,\n",
    "                  input_shape=(224, 224, 3)\n",
    "                  )"
   ]
  },
  {
   "cell_type": "code",
   "execution_count": 50,
   "metadata": {},
   "outputs": [
    {
     "name": "stdout",
     "output_type": "stream",
     "text": [
      "Model: \"vgg16\"\n",
      "_________________________________________________________________\n",
      " Layer (type)                Output Shape              Param #   \n",
      "=================================================================\n",
      " input_3 (InputLayer)        [(None, 224, 224, 3)]     0         \n",
      "                                                                 \n",
      " block1_conv1 (Conv2D)       (None, 224, 224, 64)      1792      \n",
      "                                                                 \n",
      " block1_conv2 (Conv2D)       (None, 224, 224, 64)      36928     \n",
      "                                                                 \n",
      " block1_pool (MaxPooling2D)  (None, 112, 112, 64)      0         \n",
      "                                                                 \n",
      " block2_conv1 (Conv2D)       (None, 112, 112, 128)     73856     \n",
      "                                                                 \n",
      " block2_conv2 (Conv2D)       (None, 112, 112, 128)     147584    \n",
      "                                                                 \n",
      " block2_pool (MaxPooling2D)  (None, 56, 56, 128)       0         \n",
      "                                                                 \n",
      " block3_conv1 (Conv2D)       (None, 56, 56, 256)       295168    \n",
      "                                                                 \n",
      " block3_conv2 (Conv2D)       (None, 56, 56, 256)       590080    \n",
      "                                                                 \n",
      " block3_conv3 (Conv2D)       (None, 56, 56, 256)       590080    \n",
      "                                                                 \n",
      " block3_pool (MaxPooling2D)  (None, 28, 28, 256)       0         \n",
      "                                                                 \n",
      " block4_conv1 (Conv2D)       (None, 28, 28, 512)       1180160   \n",
      "                                                                 \n",
      " block4_conv2 (Conv2D)       (None, 28, 28, 512)       2359808   \n",
      "                                                                 \n",
      " block4_conv3 (Conv2D)       (None, 28, 28, 512)       2359808   \n",
      "                                                                 \n",
      " block4_pool (MaxPooling2D)  (None, 14, 14, 512)       0         \n",
      "                                                                 \n",
      " block5_conv1 (Conv2D)       (None, 14, 14, 512)       2359808   \n",
      "                                                                 \n",
      " block5_conv2 (Conv2D)       (None, 14, 14, 512)       2359808   \n",
      "                                                                 \n",
      " block5_conv3 (Conv2D)       (None, 14, 14, 512)       2359808   \n",
      "                                                                 \n",
      " block5_pool (MaxPooling2D)  (None, 7, 7, 512)         0         \n",
      "                                                                 \n",
      "=================================================================\n",
      "Total params: 14,714,688\n",
      "Trainable params: 14,714,688\n",
      "Non-trainable params: 0\n",
      "_________________________________________________________________\n"
     ]
    }
   ],
   "source": [
    "# modelin parametre  sayısı ve katmanları\n",
    "conv_base.summary()\n"
   ]
  },
  {
   "cell_type": "code",
   "execution_count": 51,
   "metadata": {},
   "outputs": [],
   "source": [
    "# modelin block5_conv1'den sonraki katmanları kullanılacağından öncekiler dondurulur.\n",
    "conv_base.trainable = True\n",
    "set_trainable = False\n",
    "for layer in conv_base.layers:\n",
    "    if layer.name == 'block5_conv1':\n",
    "        set_trainable = True\n",
    "    if set_trainable:\n",
    "        layer.trainable = True\n",
    "    else:\n",
    "        layer.trainable = False"
   ]
  },
  {
   "cell_type": "code",
   "execution_count": 52,
   "metadata": {},
   "outputs": [
    {
     "data": {
      "image/png": "[encoded data removed]",
      "text/plain": [
       "<PIL.Image.Image image mode=RGBA size=1007x1242 at 0x27101E4BD90>"
      ]
     },
     "execution_count": 52,
     "metadata": {},
     "output_type": "execute_result"
    }
   ],
   "source": [
    "#modelin görselleştirilmiş hali\n",
    "visualkeras.layered_view(conv_base, legend=True, font=ImageFont.truetype(\"arial.ttf\", 16))"
   ]
  },
  {
   "cell_type": "code",
   "execution_count": 53,
   "metadata": {},
   "outputs": [],
   "source": [
    "# Boş bir model oluşturuldu\n",
    "model = tensorflow.keras.models.Sequential([\n",
    "]\n",
    "    )\n"
   ]
  },
  {
   "cell_type": "code",
   "execution_count": 54,
   "metadata": {},
   "outputs": [],
   "source": [
    "\n",
    "# VGG16 modeli boş modele eklendi\n",
    "model.add(conv_base)"
   ]
  },
  {
   "cell_type": "code",
   "execution_count": 55,
   "metadata": {},
   "outputs": [],
   "source": [
    "\n",
    "# Flattening katmanı eklendi\n",
    "model.add(tensorflow.keras.layers.Flatten())"
   ]
  },
  {
   "cell_type": "code",
   "execution_count": 56,
   "metadata": {},
   "outputs": [],
   "source": [
    "# Yapay sinir ağını oluturan katmanlar eklendi. 4 sınıf olduğundan çıkışın 4 tane olacağını belirttik\n",
    "model.add(tensorflow.keras.layers.Dense(256, activation='relu')) #eklenecek nöron sayısı\n",
    "model.add(tensorflow.keras.layers.Dense(4, activation='softmax')) # sınıf sayısı"
   ]
  },
  {
   "cell_type": "code",
   "execution_count": 57,
   "metadata": {},
   "outputs": [
    {
     "data": {
      "image/png": "[encoded data removed]",
      "text/plain": [
       "<PIL.Image.Image image mode=RGBA size=555x85 at 0x27101E71AC0>"
      ]
     },
     "execution_count": 57,
     "metadata": {},
     "output_type": "execute_result"
    }
   ],
   "source": [
    "# kendi eklediğimiz katmanlarla birlikte oluşan modelin görselleştirilmiş hali\n",
    "visualkeras.layered_view(model, legend=True, font=ImageFont.truetype(\"arial.ttf\", 16))"
   ]
  },
  {
   "cell_type": "code",
   "execution_count": 58,
   "metadata": {},
   "outputs": [
    {
     "name": "stderr",
     "output_type": "stream",
     "text": [
      "c:\\Users\\ibrah\\AppData\\Local\\Programs\\Python\\Python38\\lib\\site-packages\\keras\\optimizer_v2\\rmsprop.py:130: UserWarning: The `lr` argument is deprecated, use `learning_rate` instead.\n",
      "  super(RMSprop, self).__init__(name, **kwargs)\n"
     ]
    }
   ],
   "source": [
    "#model compile edildi \n",
    "model.compile(loss='binary_crossentropy',\n",
    "              optimizer=tensorflow.keras.optimizers.RMSprop(lr=1e-5),\n",
    "              metrics=['acc'])"
   ]
  },
  {
   "cell_type": "code",
   "execution_count": 59,
   "metadata": {},
   "outputs": [
    {
     "name": "stdout",
     "output_type": "stream",
     "text": [
      "Model: \"sequential_2\"\n",
      "_________________________________________________________________\n",
      " Layer (type)                Output Shape              Param #   \n",
      "=================================================================\n",
      " vgg16 (Functional)          (None, 7, 7, 512)         14714688  \n",
      "                                                                 \n",
      " flatten_1 (Flatten)         (None, 25088)             0         \n",
      "                                                                 \n",
      " dense_2 (Dense)             (None, 256)               6422784   \n",
      "                                                                 \n",
      " dense_3 (Dense)             (None, 4)                 1028      \n",
      "                                                                 \n",
      "=================================================================\n",
      "Total params: 21,138,500\n",
      "Trainable params: 13,503,236\n",
      "Non-trainable params: 7,635,264\n",
      "_________________________________________________________________\n"
     ]
    }
   ],
   "source": [
    "# Oluşturduğumuz modelin son hali ve parametreleri- katmanları listelenir.\n",
    "model.summary()"
   ]
  },
  {
   "cell_type": "code",
   "execution_count": 60,
   "metadata": {},
   "outputs": [],
   "source": [
    "# Çoğaltılmış verilerimizin olduğu veri setinin yolu tanımlandı \n",
    "train_aug_dir = 'datasetnew/dataset_aug_images/train'\n",
    "validation_aug_dir = 'datasetnew/dataset_aug_images/validation'\n",
    "test_aug_dir = 'datasetnew/dataset_aug_images/test'"
   ]
  },
  {
   "cell_type": "code",
   "execution_count": 61,
   "metadata": {},
   "outputs": [],
   "source": [
    "\n",
    "# keras görüntü önişleme modülü - veri çoğaltılırken uygulanacak işlemler tanımlandı.\n",
    "train_datagen = tensorflow.keras.preprocessing.image.ImageDataGenerator(\n",
    "      rescale=1./255, \n",
    "      rotation_range=20, \n",
    "      width_shift_range=0.2,\n",
    "      height_shift_range=0.2,\n",
    "      shear_range=0.2,\n",
    "      zoom_range=0.2,\n",
    "      horizontal_flip=False, # ayna\n",
    "      fill_mode='nearest'\n",
    "      )"
   ]
  },
  {
   "cell_type": "code",
   "execution_count": 62,
   "metadata": {},
   "outputs": [
    {
     "name": "stdout",
     "output_type": "stream",
     "text": [
      "Found 7036 images belonging to 4 classes.\n"
     ]
    }
   ],
   "source": [
    "#eğitim modelinin ne üzerine uygulanacağı hangi boyutlarda  ve her seferinde kaç tane okuyacağı belirlendi.\n",
    "train_generator = train_datagen.flow_from_directory(\n",
    "        train_aug_dir,\n",
    "        target_size=(224, 224),\n",
    "        batch_size=16\n",
    "        )"
   ]
  },
  {
   "cell_type": "code",
   "execution_count": 18,
   "metadata": {},
   "outputs": [],
   "source": [
    "\n",
    "#veri çoğaltma  işlemi gerçekleştirilir. Her veriden 5 tane veri üretilir. Yeni klasöre kaydedilir. Burada klasör yapısı oluşturuldu.\n",
    "n = 5\n",
    "\n",
    "aug_image_folder = os.path.join('datasetnew', 'dataset_aug_images')\n",
    "if not os.path.exists(aug_image_folder):\n",
    "    os.makedirs(aug_image_folder)  \n"
   ]
  },
  {
   "cell_type": "code",
   "execution_count": 32,
   "metadata": {},
   "outputs": [
    {
     "name": "stdout",
     "output_type": "stream",
     "text": [
      "Step 1 of 22\n",
      "\tGenerate 5 samples for file 188.jpg\n",
      "Step 2 of 22\n",
      "\tGenerate 5 samples for file 189.jpg\n",
      "Step 3 of 22\n",
      "\tGenerate 5 samples for file 192.jpg\n",
      "Step 4 of 22\n",
      "\tGenerate 5 samples for file 193.jpg\n",
      "Step 5 of 22\n",
      "\tGenerate 5 samples for file 194.jpg\n",
      "Step 6 of 22\n",
      "\tGenerate 5 samples for file 198.jpg\n",
      "Step 7 of 22\n",
      "\tGenerate 5 samples for file 199.jpg\n",
      "Step 8 of 22\n",
      "\tGenerate 5 samples for file 200.jpg\n",
      "Step 9 of 22\n",
      "\tGenerate 5 samples for file 256.jpg\n",
      "Step 10 of 22\n",
      "\tGenerate 5 samples for file 262.jpg\n",
      "Step 11 of 22\n",
      "\tGenerate 5 samples for file 267.jpg\n",
      "Step 12 of 22\n",
      "\tGenerate 5 samples for file 285.jpg\n",
      "Step 13 of 22\n",
      "\tGenerate 5 samples for file 287.jpg\n",
      "Step 14 of 22\n",
      "\tGenerate 5 samples for file 292.jpg\n",
      "Step 15 of 22\n",
      "\tGenerate 5 samples for file 293.jpg\n",
      "Step 16 of 22\n",
      "\tGenerate 5 samples for file 294.jpg\n",
      "Step 17 of 22\n",
      "\tGenerate 5 samples for file 298.jpg\n",
      "Step 18 of 22\n",
      "\tGenerate 5 samples for file 304.jpg\n",
      "Step 19 of 22\n",
      "\tGenerate 5 samples for file 313.jpg\n",
      "Step 20 of 22\n",
      "\tGenerate 5 samples for file WIN_20220514_15_14_03_Pro.jpg\n",
      "Step 21 of 22\n",
      "\tGenerate 5 samples for file WIN_20220514_15_14_44_Pro.jpg\n",
      "Step 22 of 22\n",
      "\tGenerate 5 samples for file zOpen (20).jpg\n",
      "\n",
      "Total number images generated = 110\n"
     ]
    }
   ],
   "source": [
    "\n",
    "# augmentation parametrelerine göre veriler çoğaltılarak yeni veri seti oluşturulur.\n",
    "image_folder_to_generate = os.path.join(validation_dir, 'halt')\n",
    "image_folder_to_save = os.path.join(aug_image_folder, 'validation/halt')\n",
    "if not os.path.exists(image_folder_to_save):\n",
    "    os.makedirs(image_folder_to_save) \n",
    "\n",
    "i = 0\n",
    "total = len(os.listdir(image_folder_to_generate)) \n",
    "for filename in os.listdir(image_folder_to_generate):\n",
    "    print(\"Step {} of {}\".format(i+1, total))\n",
    "    \n",
    "    image_path = os.path.join(image_folder_to_generate, filename)\n",
    "    image = tensorflow.keras.preprocessing.image.load_img(\n",
    "        image_path, target_size=(224, 224, 3))\n",
    "    image = tensorflow.keras.preprocessing.image.img_to_array(\n",
    "        image) \n",
    "    image = numpy.expand_dims(image, axis=0)\n",
    "\n",
    "    \n",
    "    current_image_gen = train_datagen.flow(image,\n",
    "                                           batch_size=1,\n",
    "                                           save_to_dir=image_folder_to_save,\n",
    "                                           save_prefix=filename,\n",
    "                                           save_format=\"jpg\")\n",
    "\n",
    "   # n tane veri üretilir.\n",
    "    count = 0\n",
    "    for image in current_image_gen:  \n",
    "        count += 1\n",
    "        if count == n: \n",
    "            break\n",
    "    print('\\tGenerate {} samples for file {}'.format(n, filename))\n",
    "    i += 1\n",
    "\n",
    "print(\"\\nTotal number images generated = {}\".format(n*total))"
   ]
  },
  {
   "cell_type": "code",
   "execution_count": 65,
   "metadata": {},
   "outputs": [
    {
     "name": "stdout",
     "output_type": "stream",
     "text": [
      "Found 440 images belonging to 4 classes.\n"
     ]
    }
   ],
   "source": [
    "# Doğrulama verilerine ekstra bir augmentation uygulanmıyor sadece normalize ediliyor.\n",
    "validation_datagen = tensorflow.keras.preprocessing.image.ImageDataGenerator(\n",
    "        rescale=1./255 #normalizasyon\n",
    "        )\n",
    "\n",
    "validation_generator = validation_datagen.flow_from_directory(\n",
    "        validation_aug_dir,\n",
    "        target_size=(224, 224),\n",
    "        batch_size=16,\n",
    "        )\n"
   ]
  },
  {
   "cell_type": "code",
   "execution_count": 66,
   "metadata": {},
   "outputs": [
    {
     "data": {
      "text/plain": [
       "{'down': 0, 'enter': 1, 'halt': 2, 'up': 3}"
      ]
     },
     "execution_count": 66,
     "metadata": {},
     "output_type": "execute_result"
    }
   ],
   "source": [
    "# cnn string olarak sınıflandırma yapmaz. Belirlediğimiz sınıflara değer verilir.({'down': 0, 'enter': 1, 'halt': 2, 'up': 3})\n",
    "train_generator.class_indices"
   ]
  },
  {
   "cell_type": "code",
   "execution_count": 67,
   "metadata": {},
   "outputs": [],
   "source": [
    "\n",
    "class MyThresholdCallback(tensorflow.keras.callbacks.Callback):\n",
    "    def __init__(self, threshold):\n",
    "        super(MyThresholdCallback, self).__init__()\n",
    "        self.threshold = threshold\n",
    "\n",
    "    def on_epoch_end(self, epoch, logs=None): \n",
    "        acc = logs[\"acc\"]\n",
    "        val_acc = logs[\"val_acc\"]\n",
    "        if val_acc >= self.threshold:\n",
    "            if acc >= self.threshold:\n",
    "                self.model.stop_training = True\n",
    "            "
   ]
  },
  {
   "cell_type": "code",
   "execution_count": 136,
   "metadata": {},
   "outputs": [],
   "source": [
    "my_callback = MyThresholdCallback(threshold = 0.97)"
   ]
  },
  {
   "cell_type": "code",
   "execution_count": 1,
   "metadata": {},
   "outputs": [
    {
     "ename": "NameError",
     "evalue": "name 'model' is not defined",
     "output_type": "error",
     "traceback": [
      "\u001b[1;31m---------------------------------------------------------------------------\u001b[0m",
      "\u001b[1;31mNameError\u001b[0m                                 Traceback (most recent call last)",
      "\u001b[1;32mc:\\Users\\ibrah\\Desktop\\Görüntü İşleme Proje\\model2.ipynb Cell 24'\u001b[0m in \u001b[0;36m<cell line: 2>\u001b[1;34m()\u001b[0m\n\u001b[0;32m      <a href='vscode-notebook-cell:/c%3A/Users/ibrah/Desktop/G%C3%B6r%C3%BCnt%C3%BC%20%C4%B0%C5%9Fleme%20Proje/model2.ipynb#ch0000023?line=0'>1</a>\u001b[0m \u001b[39m# Training the model. Eğitim\u001b[39;00m\n\u001b[1;32m----> <a href='vscode-notebook-cell:/c%3A/Users/ibrah/Desktop/G%C3%B6r%C3%BCnt%C3%BC%20%C4%B0%C5%9Fleme%20Proje/model2.ipynb#ch0000023?line=1'>2</a>\u001b[0m history \u001b[39m=\u001b[39m model\u001b[39m.\u001b[39mfit(\n\u001b[0;32m      <a href='vscode-notebook-cell:/c%3A/Users/ibrah/Desktop/G%C3%B6r%C3%BCnt%C3%BC%20%C4%B0%C5%9Fleme%20Proje/model2.ipynb#ch0000023?line=2'>3</a>\u001b[0m       train_generator, \u001b[39m#eğitim verisi buradan alınacak\u001b[39;00m\n\u001b[0;32m      <a href='vscode-notebook-cell:/c%3A/Users/ibrah/Desktop/G%C3%B6r%C3%BCnt%C3%BC%20%C4%B0%C5%9Fleme%20Proje/model2.ipynb#ch0000023?line=3'>4</a>\u001b[0m       steps_per_epoch\u001b[39m=\u001b[39m\u001b[39m15\u001b[39m, \u001b[39m#1 epokta yukarıda belirlenen batch size kadar veri 10 kere gösterilecek\u001b[39;00m\n\u001b[0;32m      <a href='vscode-notebook-cell:/c%3A/Users/ibrah/Desktop/G%C3%B6r%C3%BCnt%C3%BC%20%C4%B0%C5%9Fleme%20Proje/model2.ipynb#ch0000023?line=4'>5</a>\u001b[0m       epochs\u001b[39m=\u001b[39m\u001b[39m150\u001b[39m, \u001b[39m#epok sayısı\u001b[39;00m\n\u001b[0;32m      <a href='vscode-notebook-cell:/c%3A/Users/ibrah/Desktop/G%C3%B6r%C3%BCnt%C3%BC%20%C4%B0%C5%9Fleme%20Proje/model2.ipynb#ch0000023?line=5'>6</a>\u001b[0m       validation_data\u001b[39m=\u001b[39mvalidation_generator, \u001b[39m#doğrulama verisi\u001b[39;00m\n\u001b[0;32m      <a href='vscode-notebook-cell:/c%3A/Users/ibrah/Desktop/G%C3%B6r%C3%BCnt%C3%BC%20%C4%B0%C5%9Fleme%20Proje/model2.ipynb#ch0000023?line=6'>7</a>\u001b[0m       validation_steps\u001b[39m=\u001b[39m\u001b[39m1\u001b[39m,\n\u001b[0;32m      <a href='vscode-notebook-cell:/c%3A/Users/ibrah/Desktop/G%C3%B6r%C3%BCnt%C3%BC%20%C4%B0%C5%9Fleme%20Proje/model2.ipynb#ch0000023?line=7'>8</a>\u001b[0m       callbacks\u001b[39m=\u001b[39m[my_callback])\n",
      "\u001b[1;31mNameError\u001b[0m: name 'model' is not defined"
     ]
    }
   ],
   "source": [
    "# Eğitimin gerçekleştirilmesi\n",
    "history = model.fit(\n",
    "      train_generator, #eğitim verisi buradan alınacak\n",
    "      steps_per_epoch=15, #1 epokta yukarıda belirlenen batch size kadar veri 15 kere gösterilecek\n",
    "      epochs=150, #epok sayısı\n",
    "      validation_data=validation_generator, #doğrulama verisi\n",
    "      validation_steps=1, # validasyon sayısı\n",
    "      callbacks=[my_callback])"
   ]
  },
  {
   "cell_type": "code",
   "execution_count": null,
   "metadata": {},
   "outputs": [
    {
     "name": "stdout",
     "output_type": "stream",
     "text": [
      "dict_keys(['loss', 'acc', 'val_loss', 'val_acc'])\n"
     ]
    }
   ],
   "source": [
    "\n",
    "# model parametreleri (dict_keys(['loss', 'acc', 'val_loss', 'val_acc']))\n",
    "print(history.history.keys())"
   ]
  },
  {
   "cell_type": "code",
   "execution_count": null,
   "metadata": {},
   "outputs": [
    {
     "data": {
      "image/png": "[encoded data removed]",
      "text/plain": [
       "<Figure size 576x360 with 1 Axes>"
      ]
     },
     "metadata": {
      "needs_background": "light"
     },
     "output_type": "display_data"
    }
   ],
   "source": [
    "# eğitim sürecini  grafiği\n",
    "pd.DataFrame(history.history).plot(figsize=(8,5))\n",
    "plt.show()"
   ]
  },
  {
   "cell_type": "code",
   "execution_count": null,
   "metadata": {},
   "outputs": [
    {
     "data": {
      "application/vnd.plotly.v1+json": {
       "config": {
        "plotlyServerURL": "https://plot.ly"
       },
       "data": [
        {
         "name": "val_loss",
         "type": "scatter",
         "xaxis": "x",
         "y": [
          0.06871462613344193,
          0.02671165019273758,
          0.004614625591784716,
          0.04627054184675217,
          0.045493245124816895,
          0.19825336337089539,
          0.016509873792529106,
          0.04774700850248337,
          0.10121941566467285,
          0.21074023842811584,
          0.013974757865071297,
          0.030997958034276962,
          0.11004818230867386,
          0.07141575962305069,
          0.05179133266210556,
          0.06535263359546661,
          0.07565881311893463,
          0.022569408640265465,
          0.20175889134407043,
          0.1092955693602562,
          0.06672748923301697,
          0.1950514316558838,
          0.06366857886314392,
          0.06487231701612473,
          0.06959935277700424,
          0.17725658416748047,
          0.06890223920345306,
          0.3940635323524475,
          0.27085310220718384,
          0.2982216775417328,
          0.12667685747146606,
          0.21704570949077606,
          0.2586594223976135,
          0.04172053188085556,
          0.14846059679985046,
          0.09309951961040497,
          0.059621863067150116,
          0.0914473831653595,
          0.041409682482481,
          0.41000601649284363,
          0.09005795419216156,
          0.34881579875946045,
          0.1873680055141449,
          0.2707395553588867,
          0.15239189565181732,
          0.1548198163509369,
          0.07112424820661545,
          0.09836830198764801,
          0.0017571847420185804,
          0.34019729495048523,
          0.09496930241584778,
          0.21974503993988037,
          0.23693138360977173,
          0.13359522819519043,
          0.07823766767978668
         ],
         "yaxis": "y"
        },
        {
         "name": "loss",
         "type": "scatter",
         "xaxis": "x",
         "y": [
          0.06429721415042877,
          0.06796387583017349,
          0.06707367300987244,
          0.05912965536117554,
          0.07286141812801361,
          0.05485953390598297,
          0.05598195269703865,
          0.07138007134199142,
          0.06863829493522644,
          0.07902581989765167,
          0.068016417324543,
          0.06357499957084656,
          0.09777114540338516,
          0.06406711786985397,
          0.052966754883527756,
          0.08384547382593155,
          0.05066431686282158,
          0.08203547447919846,
          0.057951439172029495,
          0.04131457582116127,
          0.05981750413775444,
          0.062142349779605865,
          0.06553920358419418,
          0.061671026051044464,
          0.0673871785402298,
          0.05701357498764992,
          0.07000594586133957,
          0.06685437262058258,
          0.05155712366104126,
          0.06457067281007767,
          0.046829212456941605,
          0.06169882044196129,
          0.05677160993218422,
          0.0533745251595974,
          0.05981476232409477,
          0.042056526988744736,
          0.04202510416507721,
          0.04920884221792221,
          0.047949887812137604,
          0.06262064725160599,
          0.05294283479452133,
          0.06829282641410828,
          0.06210361421108246,
          0.06664226949214935,
          0.052558038383722305,
          0.060251202434301376,
          0.0523349903523922,
          0.06550218909978867,
          0.07714101672172546,
          0.04750904068350792,
          0.05385811999440193,
          0.05673675239086151,
          0.07294044643640518,
          0.06694142520427704,
          0.048587359488010406
         ],
         "yaxis": "y"
        },
        {
         "name": "val acc",
         "type": "scatter",
         "xaxis": "x",
         "y": [
          0.9375,
          1,
          1,
          1,
          1,
          0.875,
          1,
          0.9375,
          0.9375,
          0.875,
          1,
          1,
          0.9375,
          0.9375,
          0.9375,
          1,
          0.9375,
          1,
          0.8125,
          0.9375,
          0.9375,
          0.875,
          0.9375,
          0.9375,
          0.9375,
          0.75,
          0.9375,
          0.8125,
          0.8125,
          0.75,
          0.8125,
          0.9375,
          0.8125,
          0.9375,
          0.9375,
          0.875,
          0.9375,
          0.9375,
          0.9375,
          0.75,
          0.9375,
          0.8125,
          0.875,
          0.625,
          0.875,
          0.9375,
          0.9375,
          0.875,
          1,
          0.75,
          1,
          0.875,
          0.75,
          0.9375,
          1
         ],
         "yaxis": "y2"
        },
        {
         "name": "acc",
         "type": "scatter",
         "xaxis": "x",
         "y": [
          0.9624999761581421,
          0.9583333134651184,
          0.9583333134651184,
          0.9624999761581421,
          0.949999988079071,
          0.9666666388511658,
          0.9666666388511658,
          0.949999988079071,
          0.9583333134651184,
          0.9541666507720947,
          0.949999988079071,
          0.9583333134651184,
          0.9458333253860474,
          0.9583333134651184,
          0.9624999761581421,
          0.9375,
          0.9750000238418579,
          0.9375,
          0.9666666388511658,
          0.9750000238418579,
          0.9708333611488342,
          0.9624999761581421,
          0.9666666388511658,
          0.9666666388511658,
          0.9583333134651184,
          0.9583333134651184,
          0.9583333134651184,
          0.9624999761581421,
          0.9791666865348816,
          0.9583333134651184,
          0.9708333611488342,
          0.9416666626930237,
          0.9750000238418579,
          0.987500011920929,
          0.9708333611488342,
          0.9666666388511658,
          0.9791666865348816,
          0.9666666388511658,
          0.9750000238418579,
          0.9541666507720947,
          0.9708333611488342,
          0.9541666507720947,
          0.9583333134651184,
          0.9458333253860474,
          0.9750000238418579,
          0.9666666388511658,
          0.9624999761581421,
          0.949999988079071,
          0.9291666746139526,
          0.9666666388511658,
          0.9618644118309021,
          0.9583333134651184,
          0.949999988079071,
          0.9624999761581421,
          0.9791666865348816
         ],
         "yaxis": "y2"
        }
       ],
       "layout": {
        "template": {
         "data": {
          "bar": [
           {
            "error_x": {
             "color": "#2a3f5f"
            },
            "error_y": {
             "color": "#2a3f5f"
            },
            "marker": {
             "line": {
              "color": "#E5ECF6",
              "width": 0.5
             },
             "pattern": {
              "fillmode": "overlay",
              "size": 10,
              "solidity": 0.2
             }
            },
            "type": "bar"
           }
          ],
          "barpolar": [
           {
            "marker": {
             "line": {
              "color": "#E5ECF6",
              "width": 0.5
             },
             "pattern": {
              "fillmode": "overlay",
              "size": 10,
              "solidity": 0.2
             }
            },
            "type": "barpolar"
           }
          ],
          "carpet": [
           {
            "aaxis": {
             "endlinecolor": "#2a3f5f",
             "gridcolor": "white",
             "linecolor": "white",
             "minorgridcolor": "white",
             "startlinecolor": "#2a3f5f"
            },
            "baxis": {
             "endlinecolor": "#2a3f5f",
             "gridcolor": "white",
             "linecolor": "white",
             "minorgridcolor": "white",
             "startlinecolor": "#2a3f5f"
            },
            "type": "carpet"
           }
          ],
          "choropleth": [
           {
            "colorbar": {
             "outlinewidth": 0,
             "ticks": ""
            },
            "type": "choropleth"
           }
          ],
          "contour": [
           {
            "colorbar": {
             "outlinewidth": 0,
             "ticks": ""
            },
            "colorscale": [
             [
              0,
              "#0d0887"
             ],
             [
              0.1111111111111111,
              "#46039f"
             ],
             [
              0.2222222222222222,
              "#7201a8"
             ],
             [
              0.3333333333333333,
              "#9c179e"
             ],
             [
              0.4444444444444444,
              "#bd3786"
             ],
             [
              0.5555555555555556,
              "#d8576b"
             ],
             [
              0.6666666666666666,
              "#ed7953"
             ],
             [
              0.7777777777777778,
              "#fb9f3a"
             ],
             [
              0.8888888888888888,
              "#fdca26"
             ],
             [
              1,
              "#f0f921"
             ]
            ],
            "type": "contour"
           }
          ],
          "contourcarpet": [
           {
            "colorbar": {
             "outlinewidth": 0,
             "ticks": ""
            },
            "type": "contourcarpet"
           }
          ],
          "heatmap": [
           {
            "colorbar": {
             "outlinewidth": 0,
             "ticks": ""
            },
            "colorscale": [
             [
              0,
              "#0d0887"
             ],
             [
              0.1111111111111111,
              "#46039f"
             ],
             [
              0.2222222222222222,
              "#7201a8"
             ],
             [
              0.3333333333333333,
              "#9c179e"
             ],
             [
              0.4444444444444444,
              "#bd3786"
             ],
             [
              0.5555555555555556,
              "#d8576b"
             ],
             [
              0.6666666666666666,
              "#ed7953"
             ],
             [
              0.7777777777777778,
              "#fb9f3a"
             ],
             [
              0.8888888888888888,
              "#fdca26"
             ],
             [
              1,
              "#f0f921"
             ]
            ],
            "type": "heatmap"
           }
          ],
          "heatmapgl": [
           {
            "colorbar": {
             "outlinewidth": 0,
             "ticks": ""
            },
            "colorscale": [
             [
              0,
              "#0d0887"
             ],
             [
              0.1111111111111111,
              "#46039f"
             ],
             [
              0.2222222222222222,
              "#7201a8"
             ],
             [
              0.3333333333333333,
              "#9c179e"
             ],
             [
              0.4444444444444444,
              "#bd3786"
             ],
             [
              0.5555555555555556,
              "#d8576b"
             ],
             [
              0.6666666666666666,
              "#ed7953"
             ],
             [
              0.7777777777777778,
              "#fb9f3a"
             ],
             [
              0.8888888888888888,
              "#fdca26"
             ],
             [
              1,
              "#f0f921"
             ]
            ],
            "type": "heatmapgl"
           }
          ],
          "histogram": [
           {
            "marker": {
             "pattern": {
              "fillmode": "overlay",
              "size": 10,
              "solidity": 0.2
             }
            },
            "type": "histogram"
           }
          ],
          "histogram2d": [
           {
            "colorbar": {
             "outlinewidth": 0,
             "ticks": ""
            },
            "colorscale": [
             [
              0,
              "#0d0887"
             ],
             [
              0.1111111111111111,
              "#46039f"
             ],
             [
              0.2222222222222222,
              "#7201a8"
             ],
             [
              0.3333333333333333,
              "#9c179e"
             ],
             [
              0.4444444444444444,
              "#bd3786"
             ],
             [
              0.5555555555555556,
              "#d8576b"
             ],
             [
              0.6666666666666666,
              "#ed7953"
             ],
             [
              0.7777777777777778,
              "#fb9f3a"
             ],
             [
              0.8888888888888888,
              "#fdca26"
             ],
             [
              1,
              "#f0f921"
             ]
            ],
            "type": "histogram2d"
           }
          ],
          "histogram2dcontour": [
           {
            "colorbar": {
             "outlinewidth": 0,
             "ticks": ""
            },
            "colorscale": [
             [
              0,
              "#0d0887"
             ],
             [
              0.1111111111111111,
              "#46039f"
             ],
             [
              0.2222222222222222,
              "#7201a8"
             ],
             [
              0.3333333333333333,
              "#9c179e"
             ],
             [
              0.4444444444444444,
              "#bd3786"
             ],
             [
              0.5555555555555556,
              "#d8576b"
             ],
             [
              0.6666666666666666,
              "#ed7953"
             ],
             [
              0.7777777777777778,
              "#fb9f3a"
             ],
             [
              0.8888888888888888,
              "#fdca26"
             ],
             [
              1,
              "#f0f921"
             ]
            ],
            "type": "histogram2dcontour"
           }
          ],
          "mesh3d": [
           {
            "colorbar": {
             "outlinewidth": 0,
             "ticks": ""
            },
            "type": "mesh3d"
           }
          ],
          "parcoords": [
           {
            "line": {
             "colorbar": {
              "outlinewidth": 0,
              "ticks": ""
             }
            },
            "type": "parcoords"
           }
          ],
          "pie": [
           {
            "automargin": true,
            "type": "pie"
           }
          ],
          "scatter": [
           {
            "fillpattern": {
             "fillmode": "overlay",
             "size": 10,
             "solidity": 0.2
            },
            "type": "scatter"
           }
          ],
          "scatter3d": [
           {
            "line": {
             "colorbar": {
              "outlinewidth": 0,
              "ticks": ""
             }
            },
            "marker": {
             "colorbar": {
              "outlinewidth": 0,
              "ticks": ""
             }
            },
            "type": "scatter3d"
           }
          ],
          "scattercarpet": [
           {
            "marker": {
             "colorbar": {
              "outlinewidth": 0,
              "ticks": ""
             }
            },
            "type": "scattercarpet"
           }
          ],
          "scattergeo": [
           {
            "marker": {
             "colorbar": {
              "outlinewidth": 0,
              "ticks": ""
             }
            },
            "type": "scattergeo"
           }
          ],
          "scattergl": [
           {
            "marker": {
             "colorbar": {
              "outlinewidth": 0,
              "ticks": ""
             }
            },
            "type": "scattergl"
           }
          ],
          "scattermapbox": [
           {
            "marker": {
             "colorbar": {
              "outlinewidth": 0,
              "ticks": ""
             }
            },
            "type": "scattermapbox"
           }
          ],
          "scatterpolar": [
           {
            "marker": {
             "colorbar": {
              "outlinewidth": 0,
              "ticks": ""
             }
            },
            "type": "scatterpolar"
           }
          ],
          "scatterpolargl": [
           {
            "marker": {
             "colorbar": {
              "outlinewidth": 0,
              "ticks": ""
             }
            },
            "type": "scatterpolargl"
           }
          ],
          "scatterternary": [
           {
            "marker": {
             "colorbar": {
              "outlinewidth": 0,
              "ticks": ""
             }
            },
            "type": "scatterternary"
           }
          ],
          "surface": [
           {
            "colorbar": {
             "outlinewidth": 0,
             "ticks": ""
            },
            "colorscale": [
             [
              0,
              "#0d0887"
             ],
             [
              0.1111111111111111,
              "#46039f"
             ],
             [
              0.2222222222222222,
              "#7201a8"
             ],
             [
              0.3333333333333333,
              "#9c179e"
             ],
             [
              0.4444444444444444,
              "#bd3786"
             ],
             [
              0.5555555555555556,
              "#d8576b"
             ],
             [
              0.6666666666666666,
              "#ed7953"
             ],
             [
              0.7777777777777778,
              "#fb9f3a"
             ],
             [
              0.8888888888888888,
              "#fdca26"
             ],
             [
              1,
              "#f0f921"
             ]
            ],
            "type": "surface"
           }
          ],
          "table": [
           {
            "cells": {
             "fill": {
              "color": "#EBF0F8"
             },
             "line": {
              "color": "white"
             }
            },
            "header": {
             "fill": {
              "color": "#C8D4E3"
             },
             "line": {
              "color": "white"
             }
            },
            "type": "table"
           }
          ]
         },
         "layout": {
          "annotationdefaults": {
           "arrowcolor": "#2a3f5f",
           "arrowhead": 0,
           "arrowwidth": 1
          },
          "autotypenumbers": "strict",
          "coloraxis": {
           "colorbar": {
            "outlinewidth": 0,
            "ticks": ""
           }
          },
          "colorscale": {
           "diverging": [
            [
             0,
             "#8e0152"
            ],
            [
             0.1,
             "#c51b7d"
            ],
            [
             0.2,
             "#de77ae"
            ],
            [
             0.3,
             "#f1b6da"
            ],
            [
             0.4,
             "#fde0ef"
            ],
            [
             0.5,
             "#f7f7f7"
            ],
            [
             0.6,
             "#e6f5d0"
            ],
            [
             0.7,
             "#b8e186"
            ],
            [
             0.8,
             "#7fbc41"
            ],
            [
             0.9,
             "#4d9221"
            ],
            [
             1,
             "#276419"
            ]
           ],
           "sequential": [
            [
             0,
             "#0d0887"
            ],
            [
             0.1111111111111111,
             "#46039f"
            ],
            [
             0.2222222222222222,
             "#7201a8"
            ],
            [
             0.3333333333333333,
             "#9c179e"
            ],
            [
             0.4444444444444444,
             "#bd3786"
            ],
            [
             0.5555555555555556,
             "#d8576b"
            ],
            [
             0.6666666666666666,
             "#ed7953"
            ],
            [
             0.7777777777777778,
             "#fb9f3a"
            ],
            [
             0.8888888888888888,
             "#fdca26"
            ],
            [
             1,
             "#f0f921"
            ]
           ],
           "sequentialminus": [
            [
             0,
             "#0d0887"
            ],
            [
             0.1111111111111111,
             "#46039f"
            ],
            [
             0.2222222222222222,
             "#7201a8"
            ],
            [
             0.3333333333333333,
             "#9c179e"
            ],
            [
             0.4444444444444444,
             "#bd3786"
            ],
            [
             0.5555555555555556,
             "#d8576b"
            ],
            [
             0.6666666666666666,
             "#ed7953"
            ],
            [
             0.7777777777777778,
             "#fb9f3a"
            ],
            [
             0.8888888888888888,
             "#fdca26"
            ],
            [
             1,
             "#f0f921"
            ]
           ]
          },
          "colorway": [
           "#636efa",
           "#EF553B",
           "#00cc96",
           "#ab63fa",
           "#FFA15A",
           "#19d3f3",
           "#FF6692",
           "#B6E880",
           "#FF97FF",
           "#FECB52"
          ],
          "font": {
           "color": "#2a3f5f"
          },
          "geo": {
           "bgcolor": "white",
           "lakecolor": "white",
           "landcolor": "#E5ECF6",
           "showlakes": true,
           "showland": true,
           "subunitcolor": "white"
          },
          "hoverlabel": {
           "align": "left"
          },
          "hovermode": "closest",
          "mapbox": {
           "style": "light"
          },
          "paper_bgcolor": "white",
          "plot_bgcolor": "#E5ECF6",
          "polar": {
           "angularaxis": {
            "gridcolor": "white",
            "linecolor": "white",
            "ticks": ""
           },
           "bgcolor": "#E5ECF6",
           "radialaxis": {
            "gridcolor": "white",
            "linecolor": "white",
            "ticks": ""
           }
          },
          "scene": {
           "xaxis": {
            "backgroundcolor": "#E5ECF6",
            "gridcolor": "white",
            "gridwidth": 2,
            "linecolor": "white",
            "showbackground": true,
            "ticks": "",
            "zerolinecolor": "white"
           },
           "yaxis": {
            "backgroundcolor": "#E5ECF6",
            "gridcolor": "white",
            "gridwidth": 2,
            "linecolor": "white",
            "showbackground": true,
            "ticks": "",
            "zerolinecolor": "white"
           },
           "zaxis": {
            "backgroundcolor": "#E5ECF6",
            "gridcolor": "white",
            "gridwidth": 2,
            "linecolor": "white",
            "showbackground": true,
            "ticks": "",
            "zerolinecolor": "white"
           }
          },
          "shapedefaults": {
           "line": {
            "color": "#2a3f5f"
           }
          },
          "ternary": {
           "aaxis": {
            "gridcolor": "white",
            "linecolor": "white",
            "ticks": ""
           },
           "baxis": {
            "gridcolor": "white",
            "linecolor": "white",
            "ticks": ""
           },
           "bgcolor": "#E5ECF6",
           "caxis": {
            "gridcolor": "white",
            "linecolor": "white",
            "ticks": ""
           }
          },
          "title": {
           "x": 0.05
          },
          "xaxis": {
           "automargin": true,
           "gridcolor": "white",
           "linecolor": "white",
           "ticks": "",
           "title": {
            "standoff": 15
           },
           "zerolinecolor": "white",
           "zerolinewidth": 2
          },
          "yaxis": {
           "automargin": true,
           "gridcolor": "white",
           "linecolor": "white",
           "ticks": "",
           "title": {
            "standoff": 15
           },
           "zerolinecolor": "white",
           "zerolinewidth": 2
          }
         }
        },
        "title": {
         "text": "Loss/Accuracy of LSTM Model"
        },
        "xaxis": {
         "anchor": "y",
         "domain": [
          0,
          0.94
         ],
         "title": {
          "text": "Epoch"
         }
        },
        "yaxis": {
         "anchor": "x",
         "domain": [
          0,
          1
         ],
         "title": {
          "text": "<b>primary</b> Loss"
         }
        },
        "yaxis2": {
         "anchor": "x",
         "overlaying": "y",
         "side": "right",
         "title": {
          "text": "<b>secondary</b> Accuracy"
         }
        }
       }
      }
     },
     "metadata": {},
     "output_type": "display_data"
    }
   ],
   "source": [
    "# Eğitim sürecinin grafiksel görüntülenmesi\n",
    "\n",
    "fig = make_subplots(specs=[[{\"secondary_y\": True}]])\n",
    "\n",
    "\n",
    "fig.add_trace(\n",
    "    go.Scatter( y=history.history['val_loss'], name=\"val_loss\"),\n",
    "    secondary_y=False,\n",
    ")\n",
    "\n",
    "fig.add_trace(\n",
    "    go.Scatter( y=history.history['loss'], name=\"loss\"),\n",
    "    secondary_y=False,\n",
    ")\n",
    "\n",
    "fig.add_trace(\n",
    "    go.Scatter( y=history.history['val_acc'], name=\"val acc\"),\n",
    "    secondary_y=True,\n",
    ")\n",
    "\n",
    "fig.add_trace(\n",
    "    go.Scatter( y=history.history['acc'], name=\"acc\"),\n",
    "    secondary_y=True,\n",
    ")\n",
    "\n",
    "\n",
    "fig.update_layout(\n",
    "    title_text=\"Loss/Accuracy of LSTM Model\"\n",
    ")\n",
    "\n",
    "\n",
    "fig.update_xaxes(title_text=\"Epoch\")\n",
    "\n",
    "\n",
    "fig.update_yaxes(title_text=\"<b>primary</b> Loss\", secondary_y=False)\n",
    "fig.update_yaxes(title_text=\"<b>secondary</b> Accuracy\", secondary_y=True)\n",
    "\n",
    "fig.show()"
   ]
  },
  {
   "cell_type": "code",
   "execution_count": null,
   "metadata": {},
   "outputs": [],
   "source": [
    "#  Eğitim sonucundaki değerler tutulur.\n",
    "model.save('eğitim_11_5_model.h5') ## tensorflow uzantısı m5"
   ]
  },
  {
   "cell_type": "code",
   "execution_count": null,
   "metadata": {},
   "outputs": [],
   "source": [
    "# Test veri setindeki veriler normalize edildi.\n",
    "test_datagen = tensorflow.keras.preprocessing.image.ImageDataGenerator(\n",
    "        rescale=1./255\n",
    "        )"
   ]
  },
  {
   "cell_type": "code",
   "execution_count": null,
   "metadata": {},
   "outputs": [
    {
     "name": "stdout",
     "output_type": "stream",
     "text": [
      "Found 1320 images belonging to 4 classes.\n"
     ]
    }
   ],
   "source": [
    "\n",
    "test_generator = test_datagen.flow_from_directory(\n",
    "        test_aug_dir,\n",
    "        target_size=(224, 224),\n",
    "        batch_size=16,\n",
    "        )"
   ]
  },
  {
   "cell_type": "code",
   "execution_count": null,
   "metadata": {},
   "outputs": [
    {
     "name": "stderr",
     "output_type": "stream",
     "text": [
      "C:\\Users\\ibrah\\AppData\\Local\\Temp\\ipykernel_6572\\628990453.py:2: UserWarning:\n",
      "\n",
      "`Model.evaluate_generator` is deprecated and will be removed in a future version. Please use `Model.evaluate`, which supports generators.\n",
      "\n"
     ]
    },
    {
     "name": "stdout",
     "output_type": "stream",
     "text": [
      "test acc: 0.8725000023841858\n",
      "test loss: 0.17840701341629028\n"
     ]
    }
   ],
   "source": [
    "#Test verileri modele gösterilerek toplam başarı hesaplandı.\n",
    "test_loss, test_acc = model.evaluate_generator(test_generator, steps=50)\n",
    "print('test acc:', test_acc)\n",
    "print('test loss:', test_loss)\n",
    "\n",
    "\n"
   ]
  }
 ],
 "metadata": {
  "interpreter": {
   "hash": "6ae67ef02bacfd1a977819954b33e4a00faeea4609a01b04fcd35ee61f00330b"
  },
  "kernelspec": {
   "display_name": "Python 3.8.3 64-bit",
   "language": "python",
   "name": "python3"
  },
  "language_info": {
   "codemirror_mode": {
    "name": "ipython",
    "version": 3
   },
   "file_extension": ".py",
   "mimetype": "text/x-python",
   "name": "python",
   "nbconvert_exporter": "python",
   "pygments_lexer": "ipython3",
   "version": "3.8.3"
  },
  "orig_nbformat": 4
 },
 "nbformat": 4,
 "nbformat_minor": 2
}
