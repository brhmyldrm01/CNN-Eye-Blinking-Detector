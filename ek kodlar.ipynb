{
 "cells": [
  {
   "cell_type": "code",
   "execution_count": null,
   "metadata": {},
   "outputs": [],
   "source": [
    "import tensorflow\n",
    "# Visualize training history\n",
    "from keras.models import Sequential\n",
    "from keras.layers import Dense\n",
    "from keras.preprocessing import image\n",
    "import matplotlib.pyplot as plt\n",
    "import numpy\n",
    "import pandas as pd\n",
    "import cv2\n",
    "import os"
   ]
  },
  {
   "cell_type": "code",
   "execution_count": null,
   "metadata": {},
   "outputs": [],
   "source": [
    "#resnet50 \n",
    "conv_base = tensorflow.keras.applications.ResNet50(weights='imagenet',\n",
    "                                         include_top=False,  # without dense part of the network\n",
    "                                         input_shape=(224, 224, 3))"
   ]
  },
  {
   "cell_type": "code",
   "execution_count": null,
   "metadata": {},
   "outputs": [],
   "source": [
    "conv_base = tensorflow.keras.applications.MobileNet(weights='imagenet',\n",
    "                                          include_top=False,  # without dense part of the network\n",
    "                                          input_shape=(224, 224, 3))"
   ]
  },
  {
   "cell_type": "code",
   "execution_count": null,
   "metadata": {},
   "outputs": [],
   "source": [
    "#3 sınıflı eğitim için.\n",
    "model.add(tensorflow.keras.layers.Dense(256, activation='relu')) #eklenecek nöron sayısı\n",
    "model.add(tensorflow.keras.layers.Dense(3, activation='softmax')) # sınıf sayısı"
   ]
  },
  {
   "cell_type": "code",
   "execution_count": null,
   "metadata": {},
   "outputs": [],
   "source": [
    "# Belli bir epok boyunca iyileşme olmaması durumunda en iyi modeli kaydeden kod\n",
    "checkpoint = ModelCheckpoint(\"eğitim_12_2_model.h5\",\n",
    "                             monitor=\"val_loss\",\n",
    "                             mode=\"min\",\n",
    "                             save_best_only=True,\n",
    "                             verbose=1)\n",
    "\n",
    "earlystop = EarlyStopping(monitor='val_loss',\n",
    "                          restore_best_weights=True,\n",
    "                          patience=7, \n",
    "                          verbose=1)\n",
    "\n",
    "callbacks = [earlystop, checkpoint]"
   ]
  }
 ],
 "metadata": {
  "language_info": {
   "name": "python"
  },
  "orig_nbformat": 4
 },
 "nbformat": 4,
 "nbformat_minor": 2
}
