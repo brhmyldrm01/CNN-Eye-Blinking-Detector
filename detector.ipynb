{
 "cells": [
  {
   "cell_type": "code",
   "execution_count": 89,
   "metadata": {},
   "outputs": [],
   "source": [
    "\n",
    "import numpy as np\n",
    "import tensorflow as tf\n",
    "from tensorflow import keras\n",
    "import matplotlib.pyplot as plt\n",
    "import pyautogui as pag\n",
    "from time import sleep\n",
    "import cv2"
   ]
  },
  {
   "cell_type": "code",
   "execution_count": 90,
   "metadata": {},
   "outputs": [],
   "source": [
    "# Yakalanan yüz etrafına çizilecek çerçevenin renkleri tanımlandı.\n",
    "RED = (0, 0, 255)\n",
    "GREEN = (0, 255, 0)\n",
    "BLUE = (255, 0, 0)\n",
    "PINK = (255,0, 255)"
   ]
  },
  {
   "cell_type": "code",
   "execution_count": 91,
   "metadata": {},
   "outputs": [],
   "source": [
    "# cv2 kütüphanesinden yüz tanıma üzerine eğitilmiş model alındı.\n",
    "face_cascade = cv2.CascadeClassifier(\n",
    "    cv2.data.haarcascades + 'haarcascade_frontalface_default.xml')\n"
   ]
  },
  {
   "cell_type": "code",
   "execution_count": 92,
   "metadata": {},
   "outputs": [],
   "source": [
    "# Gözleri tahminleyen bizim eğittimiz model tanımlandı.\n",
    "model_name = 'deneme_10_model.h5'\n",
    "face_classifier = keras.models.load_model(f'{model_name}')\n",
    "\n",
    "#Tahminde kullanılacak sınıflar tanımlandı.\n",
    "class_names = ['down', 'enter','halt','up']\n",
    "\n",
    "# Tahminler arası bekleme süresi tanımlandı. Göz açık konuma getirilene kadar hatalı işlem yapılması önlemek amaçlanmıştır.\n",
    "delay = 0.35\t\t"
   ]
  },
  {
   "cell_type": "code",
   "execution_count": 93,
   "metadata": {},
   "outputs": [],
   "source": [
    "# Kameradan alınan görüntü tahmin yapmaya uygun hale gelmesi için işlenir.\n",
    "def get_extended_image(img, x, y, w, h, k=0.1):\n",
    "    if x - k*w > 0:\n",
    "        start_x = int(x - k*w)\n",
    "    else:\n",
    "        start_x = x\n",
    "    if y - k*h > 0:\n",
    "        start_y = int(y - k*h)\n",
    "    else:\n",
    "        start_y = y\n",
    "\n",
    "    end_x = int(x + (1 + k)*w)\n",
    "    end_y = int(y + (1 + k)*h)\n",
    "\n",
    "    face_image = img[start_y:end_y,\n",
    "                     start_x:end_x]\n",
    "    face_image = tf.image.resize(face_image, [224, 224])\n",
    "    \n",
    "    face_image = np.expand_dims(face_image, axis=0)\n",
    "    return face_image"
   ]
  },
  {
   "cell_type": "code",
   "execution_count": 94,
   "metadata": {},
   "outputs": [],
   "source": [
    "#Yakalanan yüz etrafına çerçeve çizilir. Yüzün koordinatları verilerek bu koorinatların üzerine çerçeve çizilir. Çerçeve üzerine tahmin ve doğruluk oranı yazdırılır.\n",
    "def drawRectangle(x, y, w, h, color, prediction, frame , confidence):\n",
    "    \n",
    "        cv2.rectangle(frame,\n",
    "                      (x, y), \n",
    "                      (x+w, y+h),\n",
    "                      color,\n",
    "                      2) \n",
    "        cv2.putText(frame,\n",
    "        \n",
    "                    \"{:6} - {:.2f}%\".format(prediction, confidence*100),\n",
    "                    (x, y),\n",
    "                    cv2.FONT_HERSHEY_PLAIN,  \n",
    "                    2, \n",
    "                    color,\n",
    "                    2) "
   ]
  },
  {
   "cell_type": "code",
   "execution_count": 95,
   "metadata": {},
   "outputs": [],
   "source": [
    "# Bu fonksiyon yapılan tahmine göre klavye tuşuna basılır. Orneğin tahmin edilen yüz \"down\" ise yani sağ göz kapalı isepag.press(\"down\") ile alt ok tuşuna başılır.\n",
    "def keyState(prediction):\n",
    "    if prediction != 'halt':\n",
    "        pag.press(prediction)\n",
    "        sleep(delay)"
   ]
  },
  {
   "cell_type": "code",
   "execution_count": 96,
   "metadata": {},
   "outputs": [
    {
     "name": "stdout",
     "output_type": "stream",
     "text": [
      "Kameraya başarili bir sekilde erisildi\n",
      "Goruntu akisi basladi - cikis icin ESC tusuna basiniz.\n",
      "Goruntu akisi sonlandi.\n"
     ]
    }
   ],
   "source": [
    "video_capture = cv2.VideoCapture(0)  # webcamera\n",
    "#video_capture = cv2.VideoCapture('http://192.168.43.1:4747/mjpegfeed')  # droidcam\n",
    "\n",
    "\n",
    "if not video_capture.isOpened():\n",
    "    print(\"Kameraya erisilemiyor.\")\n",
    "else:\n",
    "    print(\"Kameraya başarili bir sekilde erisildi\")\n",
    "\n",
    "print(\"Goruntu akisi basladi - cikis icin ESC tusuna basiniz.\")\n",
    "while True:\n",
    "    \n",
    "    \n",
    "    # Kameradan anlık olarak frameler alınır.\n",
    "    ret, frame = video_capture.read()\n",
    "    if not ret:\n",
    "        print(\"Erisim yok ...\")\n",
    "        break\n",
    "\n",
    "    gray = cv2.cvtColor(frame, cv2.COLOR_BGR2RGB)\n",
    "\n",
    "    # Yüzlerin tespit edilmesi\n",
    "    faces = face_cascade.detectMultiScale(\n",
    "        gray,\n",
    "        scaleFactor=1.3,\n",
    "        minNeighbors=5,\n",
    "        minSize=(100, 100),\n",
    "        flags=cv2.CASCADE_SCALE_IMAGE\n",
    "    )\n",
    "\n",
    "    # Tespit edilen her yüz için tahminleme ve yüz üzerine çerçeve çizilme işlemi yapılır.\n",
    "    for (x, y, w, h) in faces:\n",
    "        \n",
    "        # yakalanan frame görüntü olarak alınır.\n",
    "        face_image = get_extended_image(frame, x, y, w, h, 0.5)\n",
    "        \n",
    "        # Eğittiğimiz modele bu görüntü gönderilir. Sonuçların tahmin edilmesi yapılır.\n",
    "        result = face_classifier.predict(face_image)\n",
    "        \n",
    "        # Tahmin edilen yüzün hangi sınıfa ait olduğu belirlenir.\n",
    "        prediction = class_names[np.array( result[0]).argmax(axis=0)] \n",
    "        # Doğruluk oranı hesaplanır.\n",
    "        confidence = np.array(result[0]).max(axis=0)\n",
    "        # Tahmin sonucu belirlenen sınıfa göre belirli bir renk ve çerçeve üzerine yazdırılacak yazı belirlenir. \n",
    "        if prediction == 'down':\n",
    "            color = GREEN\n",
    "            cv2.putText(frame,\"DOWN\",(x,y),cv2.FONT_HERSHEY_COMPLEX,0.5,(250,250,250),1)\n",
    "        elif prediction == 'up':\n",
    "            color = BLUE\n",
    "            cv2.putText(frame,\"UP\",(x,y),cv2.FONT_HERSHEY_COMPLEX,0.5,(250,250,250),1)\n",
    "        elif prediction == 'enter':\n",
    "            color = RED\n",
    "            cv2.putText(frame,\"ENTER\",(x,y),cv2.FONT_HERSHEY_COMPLEX,0.5,(250,250,250),1)\n",
    "        elif prediction == 'halt': \n",
    "            color = PINK\n",
    "            cv2.putText(frame,\"HALT\",(x,y),cv2.FONT_HERSHEY_COMPLEX,0.5,(250,250,250),1)\n",
    "            \n",
    "        #Belirlenen renk ve yazı ile Yüz çevresine çerçeve çizilir.    \n",
    "        drawRectangle(x, y, w, h, color, prediction, frame, confidence)\n",
    "        \n",
    "        \n",
    "    # Gösterilen görüntü ekrana basılır.\n",
    "    cv2.imshow(\"Face detector - cikis icin ESC tusuna basiniz.\", frame)\n",
    "\n",
    "    # ESC tusuna basıldığında program sonlandırılır.\n",
    "    key = cv2.waitKey(1)\n",
    "    if key % 256 == 27:  # ESC code\n",
    "        break\n",
    "    # Program çalıştığı sürece eğer gözler açık değilse yapılan hareket ile ilgili tuşa basılır. Her basma işleminde bir süre beklenir.\n",
    "    #if prediction != 'halt':\n",
    "    #   keyState(prediction)\n",
    "\n",
    "video_capture.release()\n",
    "cv2.destroyAllWindows()\n",
    "print(\"Goruntu akisi sonlandi.\")"
   ]
  },
  {
   "cell_type": "markdown",
   "metadata": {},
   "source": []
  }
 ],
 "metadata": {
  "interpreter": {
   "hash": "6ae67ef02bacfd1a977819954b33e4a00faeea4609a01b04fcd35ee61f00330b"
  },
  "kernelspec": {
   "display_name": "Python 3.8.3 64-bit",
   "language": "python",
   "name": "python3"
  },
  "language_info": {
   "codemirror_mode": {
    "name": "ipython",
    "version": 3
   },
   "file_extension": ".py",
   "mimetype": "text/x-python",
   "name": "python",
   "nbconvert_exporter": "python",
   "pygments_lexer": "ipython3",
   "version": "3.8.3"
  },
  "orig_nbformat": 4
 },
 "nbformat": 4,
 "nbformat_minor": 2
}
